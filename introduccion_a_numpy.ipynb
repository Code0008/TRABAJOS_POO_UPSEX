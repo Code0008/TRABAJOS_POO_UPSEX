{
 "cells": [
  {
   "cell_type": "code",
   "execution_count": 237,
   "metadata": {},
   "outputs": [],
   "source": [
    "import numpy as np"
   ]
  },
  {
   "cell_type": "markdown",
   "metadata": {},
   "source": [
    "## ARRAYS"
   ]
  },
  {
   "cell_type": "code",
   "execution_count": 2,
   "metadata": {},
   "outputs": [
    {
     "data": {
      "text/plain": [
       "array([1, 2, 3, 4, 5, 6])"
      ]
     },
     "execution_count": 2,
     "metadata": {},
     "output_type": "execute_result"
    }
   ],
   "source": [
    "arreglo = np.array([1,2,3,4,5,6])\n",
    "arreglo"
   ]
  },
  {
   "cell_type": "markdown",
   "metadata": {},
   "source": [
    "## MATRICES"
   ]
  },
  {
   "cell_type": "code",
   "execution_count": 238,
   "metadata": {},
   "outputs": [
    {
     "data": {
      "text/plain": [
       "array([[1, 2, 3],\n",
       "       [4, 5, 6]])"
      ]
     },
     "execution_count": 238,
     "metadata": {},
     "output_type": "execute_result"
    }
   ],
   "source": [
    "matriz = np.array(\n",
    "[\n",
    "    [1,2,3],\n",
    "    [4,5,6]\n",
    "]\n",
    ")\n",
    "matriz"
   ]
  },
  {
   "cell_type": "code",
   "execution_count": 239,
   "metadata": {},
   "outputs": [
    {
     "data": {
      "text/plain": [
       "(2, 3)"
      ]
     },
     "execution_count": 239,
     "metadata": {},
     "output_type": "execute_result"
    }
   ],
   "source": [
    "matriz.shape\n",
    "# shape : para ver las dimensiones del array :V"
   ]
  },
  {
   "cell_type": "code",
   "execution_count": 14,
   "metadata": {},
   "outputs": [
    {
     "data": {
      "text/plain": [
       "dtype('int64')"
      ]
     },
     "execution_count": 14,
     "metadata": {},
     "output_type": "execute_result"
    }
   ],
   "source": [
    "matriz.dtype\n",
    "\n",
    "# el tipo de dato que almacena el arreglo | tipos de datos que almacena la matriz"
   ]
  },
  {
   "cell_type": "code",
   "execution_count": 15,
   "metadata": {},
   "outputs": [
    {
     "data": {
      "text/plain": [
       "array([[1, 2, 3],\n",
       "       [4, 5, 6]], dtype=int16)"
      ]
     },
     "execution_count": 15,
     "metadata": {},
     "output_type": "execute_result"
    }
   ],
   "source": [
    "matriz = matriz.astype(\"int16\")\n",
    "matriz"
   ]
  },
  {
   "cell_type": "markdown",
   "metadata": {},
   "source": [
    "## APROVECHANDO BONDAN DE PYTHON \n",
    "## ARREGLO CON MULTIPLES TIPO DE DATOS"
   ]
  },
  {
   "cell_type": "code",
   "execution_count": 241,
   "metadata": {},
   "outputs": [
    {
     "data": {
      "text/plain": [
       "dtype('<U32')"
      ]
     },
     "execution_count": 241,
     "metadata": {},
     "output_type": "execute_result"
    }
   ],
   "source": [
    "arreglo_multiple_tipo_de_datos =  np.array([\"Jilari\", \"mensito.\", 3,4,5, 3.3])\n",
    "arreglo_multiple_tipo_de_datos.dtype"
   ]
  },
  {
   "cell_type": "markdown",
   "metadata": {},
   "source": [
    "## ARREGLO DE ZEROS"
   ]
  },
  {
   "cell_type": "code",
   "execution_count": 19,
   "metadata": {},
   "outputs": [
    {
     "data": {
      "text/plain": [
       "array([[0., 0., 0.],\n",
       "       [0., 0., 0.]])"
      ]
     },
     "execution_count": 19,
     "metadata": {},
     "output_type": "execute_result"
    }
   ],
   "source": [
    "zeros = np.zeros((2,3))  # -> Zeros una sola matris\n",
    "# 2 -> filas  \n",
    "# 3-> columnas\n",
    "zeros"
   ]
  },
  {
   "cell_type": "code",
   "execution_count": 20,
   "metadata": {},
   "outputs": [
    {
     "data": {
      "text/plain": [
       "array([[[0., 0., 0., 0.],\n",
       "        [0., 0., 0., 0.],\n",
       "        [0., 0., 0., 0.]],\n",
       "\n",
       "       [[0., 0., 0., 0.],\n",
       "        [0., 0., 0., 0.],\n",
       "        [0., 0., 0., 0.]]])"
      ]
     },
     "execution_count": 20,
     "metadata": {},
     "output_type": "execute_result"
    }
   ],
   "source": [
    "zeros = np.zeros((2,3,4))  # zeros mas de una matriz \n",
    "# 2 -> canrtidad matrices\n",
    "# 3 -> filas\n",
    "# 4 -> columnas\n",
    "zeros"
   ]
  },
  {
   "cell_type": "markdown",
   "metadata": {},
   "source": [
    "## ARREGLO DE UNOS"
   ]
  },
  {
   "cell_type": "code",
   "execution_count": 21,
   "metadata": {},
   "outputs": [
    {
     "data": {
      "text/plain": [
       "array([[1., 1., 1.],\n",
       "       [1., 1., 1.]])"
      ]
     },
     "execution_count": 21,
     "metadata": {},
     "output_type": "execute_result"
    }
   ],
   "source": [
    "unos = np.ones((2,3))\n",
    "# 2 -> filas  \n",
    "# 3-> columnas\n",
    "unos"
   ]
  },
  {
   "cell_type": "code",
   "execution_count": 22,
   "metadata": {},
   "outputs": [
    {
     "data": {
      "text/plain": [
       "array([[[1., 1., 1., 1.],\n",
       "        [1., 1., 1., 1.],\n",
       "        [1., 1., 1., 1.]],\n",
       "\n",
       "       [[1., 1., 1., 1.],\n",
       "        [1., 1., 1., 1.],\n",
       "        [1., 1., 1., 1.]]])"
      ]
     },
     "execution_count": 22,
     "metadata": {},
     "output_type": "execute_result"
    }
   ],
   "source": [
    "unos = np.ones((2,3, 4))\n",
    "# 2 -> canrtidad matrices\n",
    "# 3 -> filas\n",
    "# 4 -> columnas\n",
    "unos"
   ]
  },
  {
   "cell_type": "markdown",
   "metadata": {},
   "source": [
    "## MATRIZ CON NUMEROS ALEARTORIOS"
   ]
  },
  {
   "cell_type": "code",
   "execution_count": 242,
   "metadata": {},
   "outputs": [
    {
     "data": {
      "text/plain": [
       "[[7, 7, 10, 8, 8, 10, 10, 5, 6, 5],\n",
       " [10, 7, 6, 10, 10, 6, 6, 5, 10, 6],\n",
       " [8, 9, 5, 10, 6, 8, 8, 6, 8, 7],\n",
       " [7, 9, 7, 7, 5, 7, 7, 9, 9, 8],\n",
       " [8, 5, 9, 8, 7, 6, 9, 7, 9, 6],\n",
       " [5, 8, 9, 7, 7, 7, 8, 7, 5, 7],\n",
       " [8, 8, 7, 10, 10, 7, 9, 10, 6, 6],\n",
       " [6, 7, 9, 5, 9, 8, 6, 8, 8, 6],\n",
       " [8, 6, 5, 7, 7, 9, 9, 10, 9, 6],\n",
       " [9, 6, 7, 6, 7, 6, 10, 7, 10, 8]]"
      ]
     },
     "execution_count": 242,
     "metadata": {},
     "output_type": "execute_result"
    }
   ],
   "source": [
    "# FORMA CON RANDOM\n",
    "from random import randint\n",
    "filas = 10\n",
    "columnas = 10\n",
    "matriz = [[randint(5,10) for _ in range(columnas)] for _ in range(filas)]\n",
    "matriz"
   ]
  },
  {
   "cell_type": "code",
   "execution_count": 248,
   "metadata": {},
   "outputs": [
    {
     "data": {
      "text/plain": [
       "array([[61, 30, 34, 15, 10, 35, 18, 94, 87, 27],\n",
       "       [93, 63, 11, 51, 77, 43, 78, 57, 98, 59],\n",
       "       [52, 17, 64, 71, 92, 28, 94, 79, 42, 11],\n",
       "       [87, 22, 57, 72, 27, 40, 68, 37, 90, 42],\n",
       "       [84, 40, 77, 53, 12, 93, 32, 30, 22, 73],\n",
       "       [51, 20, 69, 13, 81, 76, 66, 10, 40, 79],\n",
       "       [42, 85, 16, 58, 70, 25, 48, 38, 53, 69],\n",
       "       [62, 89, 29, 25, 76, 60, 32, 10, 44, 68],\n",
       "       [55, 21, 31, 37, 60, 45, 84, 28, 50, 57],\n",
       "       [15, 34, 53, 73, 74, 74, 61, 52, 57, 66]], dtype=int32)"
      ]
     },
     "execution_count": 248,
     "metadata": {},
     "output_type": "execute_result"
    }
   ],
   "source": [
    "# FORMA CON NNUMPY\n",
    "\n",
    "matriz_aleatoria =  np.random.randint(low= 10, high=100, size=(10,10))\n",
    "matriz_aleatoria_2 = np.random.randint(10, 100, (10, 10))\n",
    "#Parametro low -> inicio\n",
    "#Parametro High -> final\n",
    "# Parametro size -> tupla con el tamano de la matriz\n",
    "matriz_aleatoria"
   ]
  },
  {
   "cell_type": "code",
   "execution_count": 236,
   "metadata": {},
   "outputs": [
    {
     "data": {
      "text/plain": [
       "array([34, 33, 94, 97, 17, 63, 71, 78, 18, 35, 37, 65, 15, 83, 22, 41, 31,\n",
       "       45, 90, 39, 92, 96, 66, 13, 50, 60, 30, 35, 14, 57, 69, 60, 50, 20,\n",
       "       79, 75, 27, 99, 66, 19, 26, 27, 74, 46, 53, 72, 26, 14, 26, 29, 63,\n",
       "       64, 52, 66, 53, 12, 47, 51, 10, 41, 35, 54, 19, 15, 24, 10, 15, 34,\n",
       "       75, 32, 49, 36, 96, 33, 96, 38, 94, 13, 18, 46, 85, 45, 75, 22, 66,\n",
       "       88, 10, 31, 63, 63, 34, 89, 15, 31, 12, 54, 59, 52, 87, 46],\n",
       "      dtype=int32)"
      ]
     },
     "execution_count": 236,
     "metadata": {},
     "output_type": "execute_result"
    }
   ],
   "source": [
    "matriz_aleatoria.flatten()"
   ]
  },
  {
   "cell_type": "markdown",
   "metadata": {},
   "source": [
    "## BROADCASTING -> ADAPTABILIDAD\n",
    "\n",
    "- SUMA MATRICES\n",
    "    NECESITAMOS UNA MATRIZ A Y UNA MATRIZ B CON EL MISMO NUMERO DE FILAS Y/O COLUMNAS \n",
    "\n",
    "    MOVIENDOLO A NUMPY SERIA QUE DE DOS MATRICES EL ATRIBUTO SHAPE SEA SIMILAR"
   ]
  },
  {
   "cell_type": "code",
   "execution_count": 11,
   "metadata": {},
   "outputs": [
    {
     "name": "stdout",
     "output_type": "stream",
     "text": [
      "[[ 7  7  6  5  7  9 13]\n",
      " [11  4  6  9 17 10 13]]\n"
     ]
    }
   ],
   "source": [
    "arreglo_a = np.array([[1,2,3,4,5,6,9],\n",
    "                      [1,2,3,4,5,6,9]])\n",
    "arreglo_b = np.array([\n",
    "[6,5,3,1,2,3,4],\n",
    "[10,2,3,5,12,4,4]]\n",
    ")\n",
    "if arreglo_a.shape == arreglo_b.shape:\n",
    "    arreglo_c = arreglo_b + arreglo_a\n",
    "    print(arreglo_c)\n",
    "else:\n",
    "    print(\"ambos atributo shape diferente\")\n",
    "\n"
   ]
  },
  {
   "cell_type": "markdown",
   "metadata": {},
   "source": [
    "## CREAR UN ARREGLO ALEATORIO EN UN RANGO"
   ]
  },
  {
   "cell_type": "code",
   "execution_count": 12,
   "metadata": {},
   "outputs": [
    {
     "data": {
      "text/plain": [
       "array([ 0,  2,  4,  6,  8, 10, 12, 14, 16, 18, 20, 22, 24, 26, 28, 30, 32,\n",
       "       34, 36, 38, 40, 42, 44, 46, 48, 50, 52, 54, 56, 58, 60, 62, 64, 66,\n",
       "       68, 70, 72, 74, 76, 78, 80, 82, 84, 86, 88, 90, 92, 94, 96, 98])"
      ]
     },
     "execution_count": 12,
     "metadata": {},
     "output_type": "execute_result"
    }
   ],
   "source": [
    "arreglo_rango = np.arange(0, 100, 2)\n",
    "#0 -> inicio\n",
    "# 100 -> final\n",
    "# 2 -> pasos \n",
    "arreglo_rango"
   ]
  },
  {
   "cell_type": "markdown",
   "metadata": {},
   "source": [
    "## CREAR UN ARREGLO EN UN RANGO ESPECIFICO PERO CON VALORES DECIMALES"
   ]
  },
  {
   "cell_type": "code",
   "execution_count": 19,
   "metadata": {},
   "outputs": [
    {
     "data": {
      "text/plain": [
       "array([ 3.        ,  4.88888889,  6.77777778,  8.66666667, 10.55555556,\n",
       "       12.44444444, 14.33333333, 16.22222222, 18.11111111, 20.        ])"
      ]
     },
     "execution_count": 19,
     "metadata": {},
     "output_type": "execute_result"
    }
   ],
   "source": [
    "arreglo_rando_decimales = np.linspace(3, 20, 10)\n",
    "# 0 -> inicio\n",
    "# 20 -> final\n",
    "# 4 -> numero elementos\n",
    "arreglo_rando_decimales"
   ]
  },
  {
   "cell_type": "markdown",
   "metadata": {},
   "source": [
    "## OPERACIONES CON MATRICES, MULTIPLICAR MATRICES, RESTAR, DIVIDIR\n",
    " - Recordemos:\n",
    " para multiplicar dos matrices se requieere que\n",
    "  (A1xB1) X (A2xB2)\n",
    "  B1 = A2 -> si se multiplica\n",
    "  B1 != A2 -> No se multiplica\\n\n",
    "- Para restar matrices el atributo shape debe ser el mismo\n",
    " (A1,B1) - (A2, B2)\n",
    " A1,B1=A2,B2 -> SI SE RESTA\n",
    " A1,B1 != A2, B2 -> NO SE RESTA\n",
    "    (lo mismo pasa con la division)"
   ]
  },
  {
   "cell_type": "code",
   "execution_count": null,
   "metadata": {},
   "outputs": [],
   "source": [
    "# METODO RESHAPE \n",
    "# PERMITE REDIMENCIONAR LA MATRIZ"
   ]
  },
  {
   "cell_type": "code",
   "execution_count": 23,
   "metadata": {},
   "outputs": [
    {
     "data": {
      "text/plain": [
       "array([[ 18,  24,  30],\n",
       "       [ 54,  84, 114],\n",
       "       [ 90, 144, 198]])"
      ]
     },
     "execution_count": 23,
     "metadata": {},
     "output_type": "execute_result"
    }
   ],
   "source": [
    "matriz_a = np.arange(0, 18, 3).reshape(3,2)\n",
    "# A = 3,  B = 2, (3,2)\n",
    "matriz_b = np.arange(0, 12, 2).reshape(2,3)\n",
    "# A = 2, B= 3 ,  (2,3)\n",
    "# (3,2)x(2,3) \n",
    "# Se multiplica? SI\n",
    "\n",
    "matriz_c = matriz_a@matriz_b\n",
    "matriz_c\n"
   ]
  },
  {
   "cell_type": "code",
   "execution_count": 27,
   "metadata": {},
   "outputs": [
    {
     "data": {
      "text/plain": [
       "array([[0, 1],\n",
       "       [2, 3],\n",
       "       [4, 5]])"
      ]
     },
     "execution_count": 27,
     "metadata": {},
     "output_type": "execute_result"
    }
   ],
   "source": [
    "# resta\n",
    "matriz_a = np.arange(0, 18, 3).reshape(3,2)\n",
    "matriz_b = np.arange(0, 12, 2).reshape(3,2)\n",
    "matriz_c = matriz_a-matriz_b\n",
    "matriz_c"
   ]
  },
  {
   "cell_type": "code",
   "execution_count": 29,
   "metadata": {},
   "outputs": [
    {
     "data": {
      "text/plain": [
       "array([[1, 1],\n",
       "       [1, 1],\n",
       "       [1, 1]])"
      ]
     },
     "execution_count": 29,
     "metadata": {},
     "output_type": "execute_result"
    }
   ],
   "source": [
    "# division\n",
    "matriz_a = np.arange(1, 18, 3).reshape(3,2)\n",
    "matriz_b = np.arange(1, 12, 2).reshape(3,2)\n",
    "matriz_c = matriz_a//matriz_b\n",
    "matriz_c"
   ]
  },
  {
   "cell_type": "markdown",
   "metadata": {},
   "source": [
    "## MARCADA DE MATRIZ\n",
    " una mascara es como un filtro para mostrar elementos de una matriz \n",
    " ( esta mascara es util para la wbada de pandas)"
   ]
  },
  {
   "cell_type": "code",
   "execution_count": 44,
   "metadata": {},
   "outputs": [
    {
     "data": {
      "text/plain": [
       "array([119.8, 176.8, 233.8, 194.6, 292.4, 390.2])"
      ]
     },
     "execution_count": 44,
     "metadata": {},
     "output_type": "execute_result"
    }
   ],
   "source": [
    "matriz_a = np.arange(1, 18, 3).reshape(2,3)\n",
    "matriz_b = np.linspace(1, 18, 6).reshape(3,2)\n",
    "\n",
    "matriz_c = matriz_b@matriz_a\n",
    "mascara_booleana = matriz_c>100\n",
    "matriz_c[mascara_booleana]"
   ]
  },
  {
   "cell_type": "markdown",
   "metadata": {},
   "source": [
    "# PROYECTO PROYECTIN\n",
    "MODIFICAREMOS UNA IMAGEN CON NUMPY"
   ]
  },
  {
   "cell_type": "code",
   "execution_count": 1,
   "metadata": {},
   "outputs": [],
   "source": [
    "from PIL import Image\n",
    "from IPython.display import display\n"
   ]
  },
  {
   "cell_type": "code",
   "execution_count": 8,
   "metadata": {},
   "outputs": [
    {
     "data": {
      "image/jpeg": "[encoded data removed]",
      "image/png": "[encoded data removed]",
      "text/plain": [
       "<PIL.JpegImagePlugin.JpegImageFile image mode=RGB size=232x217>"
      ]
     },
     "execution_count": 8,
     "metadata": {},
     "output_type": "execute_result"
    }
   ],
   "source": [
    "imagen =Image.open(\"images.jpeg\")\n",
    "imagen.size \n",
    "imagen"
   ]
  },
  {
   "cell_type": "code",
   "execution_count": 119,
   "metadata": {},
   "outputs": [
    {
     "data": {
      "image/jpeg": "[encoded data removed]",
      "image/png": "[encoded data removed]",
      "text/plain": [
       "<PIL.Image.Image image mode=RGB size=232x217>"
      ]
     },
     "metadata": {},
     "output_type": "display_data"
    }
   ],
   "source": [
    "# pasar los valores de la imagen a array\n",
    "\n",
    "arreglo_imagen = np.array(imagen)\n",
    "tamano = arreglo_imagen.shape\n",
    "mascara = arreglo_imagen>100 \n",
    "mascara\n",
    "arreglo_imagen[mascara]= 212\n",
    "display(Image.fromarray(arreglo_imagen))    \n"
   ]
  },
  {
   "cell_type": "code",
   "execution_count": null,
   "metadata": {},
   "outputs": [],
   "source": []
  },
  {
   "cell_type": "code",
   "execution_count": 258,
   "metadata": {},
   "outputs": [
    {
     "data": {
      "text/plain": [
       "(0.9353448275862069, (217, 232))"
      ]
     },
     "execution_count": 258,
     "metadata": {},
     "output_type": "execute_result"
    }
   ],
   "source": [
    "# Calcular el aspect ratio \n",
    "\n",
    "def calcular_aspect_ratio(ancho, altura):\n",
    "    aspect_ratio_decimal = ancho/altura\n",
    "\n",
    "    def simplificar(a, b):\n",
    "        from math import gcd\n",
    "        maximo = gcd(a, b)\n",
    "        return a // maximo, b // maximo\n",
    "\n",
    "    return aspect_ratio_decimal, simplificar(ancho, altura)\n",
    "\n",
    "tamano = arreglo_imagen.shape[:2]\n",
    "calcular_aspect_ratio(*tamano)"
   ]
  },
  {
   "cell_type": "markdown",
   "metadata": {},
   "source": [
    "## ESTADISTICAS CON NUMPY\n",
    "- sum -> sumatoria\n",
    "- min -> minimo\n",
    "- max -> maximo\n",
    "- cumsum -> suma acumulativa\n",
    "- mean -> promedio\n",
    "- std  -> deviacion estandar"
   ]
  },
  {
   "cell_type": "code",
   "execution_count": 129,
   "metadata": {},
   "outputs": [
    {
     "data": {
      "text/plain": [
       "array([[[ 873, 1508],\n",
       "        [ 459, 1866],\n",
       "        [1220, 1580]],\n",
       "\n",
       "       [[1194,  611],\n",
       "        [1751, 1616],\n",
       "        [1072, 1901]],\n",
       "\n",
       "       [[1040,  771],\n",
       "        [1987, 1261],\n",
       "        [1701,  314]],\n",
       "\n",
       "       [[ 396, 1243],\n",
       "        [1282,  715],\n",
       "        [ 495, 1165]],\n",
       "\n",
       "       [[ 385, 1195],\n",
       "        [1406,  623],\n",
       "        [ 842, 1536]],\n",
       "\n",
       "       [[ 262, 1650],\n",
       "        [ 504,  755],\n",
       "        [ 783, 1190]],\n",
       "\n",
       "       [[ 792, 1008],\n",
       "        [1980, 1710],\n",
       "        [ 452,  997]],\n",
       "\n",
       "       [[ 215, 1338],\n",
       "        [ 380,  775],\n",
       "        [ 523,  780]],\n",
       "\n",
       "       [[ 267,  717],\n",
       "        [ 278,  739],\n",
       "        [ 815, 1207]],\n",
       "\n",
       "       [[ 664, 1026],\n",
       "        [1344, 1179],\n",
       "        [ 164, 1339]],\n",
       "\n",
       "       [[1472,  265],\n",
       "        [ 248, 1170],\n",
       "        [1110,  407]],\n",
       "\n",
       "       [[1444,  192],\n",
       "        [1186,  642],\n",
       "        [1457, 1896]],\n",
       "\n",
       "       [[1503, 1057],\n",
       "        [1394,  152],\n",
       "        [1720,  867]],\n",
       "\n",
       "       [[ 231,  286],\n",
       "        [1098,  132],\n",
       "        [1236, 1805]],\n",
       "\n",
       "       [[ 204, 1534],\n",
       "        [ 950,  241],\n",
       "        [1423,  758]],\n",
       "\n",
       "       [[1794,  925],\n",
       "        [ 990, 1604],\n",
       "        [1678,  186]],\n",
       "\n",
       "       [[1234,  811],\n",
       "        [1608, 1027],\n",
       "        [1177, 1376]],\n",
       "\n",
       "       [[1487, 1981],\n",
       "        [ 740,  237],\n",
       "        [1550,  408]],\n",
       "\n",
       "       [[ 229,  336],\n",
       "        [1808,  496],\n",
       "        [1379,  361]],\n",
       "\n",
       "       [[ 487, 1225],\n",
       "        [ 599,  701],\n",
       "        [ 143, 1633]],\n",
       "\n",
       "       [[ 423, 1093],\n",
       "        [1702, 1638],\n",
       "        [ 665,  245]],\n",
       "\n",
       "       [[1187, 1991],\n",
       "        [ 122, 1018],\n",
       "        [ 953,  787]],\n",
       "\n",
       "       [[ 633, 1068],\n",
       "        [1872, 1412],\n",
       "        [1878,  986]],\n",
       "\n",
       "       [[ 927, 1983],\n",
       "        [ 973, 1854],\n",
       "        [ 940, 1339]],\n",
       "\n",
       "       [[1659, 1789],\n",
       "        [1123, 1221],\n",
       "        [ 587, 1558]],\n",
       "\n",
       "       [[1997, 1538],\n",
       "        [1235, 1786],\n",
       "        [1462,  907]],\n",
       "\n",
       "       [[1018,  360],\n",
       "        [ 660,  606],\n",
       "        [1049, 1248]],\n",
       "\n",
       "       [[ 654, 1764],\n",
       "        [1136,  592],\n",
       "        [1852,  341]],\n",
       "\n",
       "       [[1826,  366],\n",
       "        [1426, 1749],\n",
       "        [1327, 1426]],\n",
       "\n",
       "       [[ 559, 1210],\n",
       "        [1723, 1772],\n",
       "        [1285, 1036]],\n",
       "\n",
       "       [[1852, 1279],\n",
       "        [1579, 1023],\n",
       "        [ 875,  892]],\n",
       "\n",
       "       [[1230,  450],\n",
       "        [1628,  692],\n",
       "        [ 790, 1673]],\n",
       "\n",
       "       [[1762, 1617],\n",
       "        [ 279,  718],\n",
       "        [ 885,  455]],\n",
       "\n",
       "       [[ 763, 1191],\n",
       "        [ 411, 1286],\n",
       "        [ 365,  450]],\n",
       "\n",
       "       [[1390,  288],\n",
       "        [1593, 1625],\n",
       "        [ 861, 1081]],\n",
       "\n",
       "       [[1717,  114],\n",
       "        [1046,  333],\n",
       "        [1556,  561]],\n",
       "\n",
       "       [[ 495,  699],\n",
       "        [ 223,  925],\n",
       "        [1799,  153]],\n",
       "\n",
       "       [[ 436, 1987],\n",
       "        [1438, 1553],\n",
       "        [ 429,  486]],\n",
       "\n",
       "       [[ 586, 1564],\n",
       "        [1124,  743],\n",
       "        [ 543, 1684]],\n",
       "\n",
       "       [[1973,  183],\n",
       "        [ 772,  837],\n",
       "        [1826, 1748]],\n",
       "\n",
       "       [[1683, 1926],\n",
       "        [1892, 1126],\n",
       "        [1623, 1372]],\n",
       "\n",
       "       [[ 396, 1505],\n",
       "        [1881,  100],\n",
       "        [ 723,  861]],\n",
       "\n",
       "       [[1204, 1478],\n",
       "        [ 684, 1845],\n",
       "        [ 206, 1001]],\n",
       "\n",
       "       [[1402,  250],\n",
       "        [1366, 1415],\n",
       "        [1287, 1060]],\n",
       "\n",
       "       [[ 513,  791],\n",
       "        [ 985, 1833],\n",
       "        [1871, 1291]],\n",
       "\n",
       "       [[ 286, 1916],\n",
       "        [1316, 1078],\n",
       "        [1303,  709]],\n",
       "\n",
       "       [[1463,  346],\n",
       "        [1121, 1443],\n",
       "        [ 529,  705]],\n",
       "\n",
       "       [[ 846, 1685],\n",
       "        [1589,  981],\n",
       "        [ 799,  113]],\n",
       "\n",
       "       [[ 990, 1482],\n",
       "        [1747, 1134],\n",
       "        [1281, 1452]],\n",
       "\n",
       "       [[ 632, 1446],\n",
       "        [1932, 1962],\n",
       "        [1779,  991]],\n",
       "\n",
       "       [[1718,  109],\n",
       "        [ 703, 1826],\n",
       "        [ 249, 1072]],\n",
       "\n",
       "       [[ 580, 1154],\n",
       "        [1351,  232],\n",
       "        [ 149, 1215]],\n",
       "\n",
       "       [[1245, 1494],\n",
       "        [1570, 1719],\n",
       "        [ 122,  101]],\n",
       "\n",
       "       [[1722, 1312],\n",
       "        [1878, 1068],\n",
       "        [1145, 1851]],\n",
       "\n",
       "       [[1129, 1868],\n",
       "        [1682,  331],\n",
       "        [1717, 1943]],\n",
       "\n",
       "       [[1730, 1242],\n",
       "        [ 356, 1314],\n",
       "        [1466,  771]],\n",
       "\n",
       "       [[ 896,  395],\n",
       "        [ 908, 1646],\n",
       "        [1446,  415]],\n",
       "\n",
       "       [[1783, 1269],\n",
       "        [1612, 1878],\n",
       "        [1459,  607]],\n",
       "\n",
       "       [[1510, 1305],\n",
       "        [1482,  186],\n",
       "        [ 659, 1777]],\n",
       "\n",
       "       [[1386, 1872],\n",
       "        [1117,  519],\n",
       "        [1694, 1987]],\n",
       "\n",
       "       [[ 514, 1907],\n",
       "        [1595,  826],\n",
       "        [1730, 1882]],\n",
       "\n",
       "       [[1841,  817],\n",
       "        [ 849,  676],\n",
       "        [1321,  127]],\n",
       "\n",
       "       [[1467, 1649],\n",
       "        [ 182,  487],\n",
       "        [1376,  797]],\n",
       "\n",
       "       [[ 198,  561],\n",
       "        [1217, 1830],\n",
       "        [ 365, 1198]],\n",
       "\n",
       "       [[ 280, 1085],\n",
       "        [1766,  159],\n",
       "        [1982, 1990]],\n",
       "\n",
       "       [[1866,  210],\n",
       "        [ 311, 1214],\n",
       "        [ 975, 1052]],\n",
       "\n",
       "       [[ 256,  158],\n",
       "        [ 227,  629],\n",
       "        [1741,  342]],\n",
       "\n",
       "       [[1194,  910],\n",
       "        [1330, 1347],\n",
       "        [1439, 1802]],\n",
       "\n",
       "       [[ 620,  987],\n",
       "        [1560, 1195],\n",
       "        [1483,  838]],\n",
       "\n",
       "       [[1877,  518],\n",
       "        [1741, 1886],\n",
       "        [1202, 1533]],\n",
       "\n",
       "       [[1913, 1861],\n",
       "        [ 213,  123],\n",
       "        [ 719, 1598]],\n",
       "\n",
       "       [[1373, 1693],\n",
       "        [ 499,  533],\n",
       "        [1809,  950]],\n",
       "\n",
       "       [[ 951,  716],\n",
       "        [1962, 1639],\n",
       "        [1371, 1789]],\n",
       "\n",
       "       [[1421,  379],\n",
       "        [1278, 1856],\n",
       "        [1892,  368]],\n",
       "\n",
       "       [[ 675,  963],\n",
       "        [ 489, 1985],\n",
       "        [ 853, 1867]],\n",
       "\n",
       "       [[ 307,  751],\n",
       "        [1643, 1084],\n",
       "        [ 343, 1782]],\n",
       "\n",
       "       [[1010,  906],\n",
       "        [1503,  889],\n",
       "        [ 599,  312]],\n",
       "\n",
       "       [[ 139,  380],\n",
       "        [1946,  374],\n",
       "        [ 528, 1170]],\n",
       "\n",
       "       [[ 227,  549],\n",
       "        [1312,  230],\n",
       "        [ 567, 1233]],\n",
       "\n",
       "       [[ 209,  562],\n",
       "        [1147,  735],\n",
       "        [ 157,  971]],\n",
       "\n",
       "       [[ 518,  515],\n",
       "        [1512,  967],\n",
       "        [ 465,  896]],\n",
       "\n",
       "       [[1910,  834],\n",
       "        [1797,  213],\n",
       "        [ 513,  152]],\n",
       "\n",
       "       [[ 193,  906],\n",
       "        [ 417, 1934],\n",
       "        [1847,  367]],\n",
       "\n",
       "       [[1944,  972],\n",
       "        [ 245,  244],\n",
       "        [1106, 1028]],\n",
       "\n",
       "       [[1504, 1795],\n",
       "        [ 324,  121],\n",
       "        [ 221,  407]],\n",
       "\n",
       "       [[1077, 1667],\n",
       "        [ 977,  812],\n",
       "        [ 692,  526]],\n",
       "\n",
       "       [[1520, 1521],\n",
       "        [ 759, 1362],\n",
       "        [1548,  705]],\n",
       "\n",
       "       [[1615, 1591],\n",
       "        [1390, 1088],\n",
       "        [1843,  517]],\n",
       "\n",
       "       [[1414, 1179],\n",
       "        [1457, 1405],\n",
       "        [ 373,  697]],\n",
       "\n",
       "       [[ 658,  406],\n",
       "        [ 100,  707],\n",
       "        [1238, 1259]],\n",
       "\n",
       "       [[1506, 1673],\n",
       "        [ 466, 1708],\n",
       "        [ 301, 1433]],\n",
       "\n",
       "       [[1304, 1466],\n",
       "        [1750, 1290],\n",
       "        [ 419, 1401]],\n",
       "\n",
       "       [[ 875, 1672],\n",
       "        [1640, 1667],\n",
       "        [ 772, 1898]],\n",
       "\n",
       "       [[1143, 1042],\n",
       "        [1591,  173],\n",
       "        [1892, 1358]],\n",
       "\n",
       "       [[ 781,  558],\n",
       "        [ 126,  496],\n",
       "        [ 233, 1586]],\n",
       "\n",
       "       [[1243,  383],\n",
       "        [ 971, 1313],\n",
       "        [1229, 1828]],\n",
       "\n",
       "       [[1530,  398],\n",
       "        [1236,  810],\n",
       "        [ 171,  806]],\n",
       "\n",
       "       [[ 335, 1250],\n",
       "        [1132, 1487],\n",
       "        [ 258,  417]],\n",
       "\n",
       "       [[ 170, 1332],\n",
       "        [1763, 1665],\n",
       "        [ 638,  420]],\n",
       "\n",
       "       [[1980, 1151],\n",
       "        [ 975,  293],\n",
       "        [1104,  474]]], dtype=int32)"
      ]
     },
     "execution_count": 129,
     "metadata": {},
     "output_type": "execute_result"
    }
   ],
   "source": [
    "arreglo =  np.random.randint(100,2000, size=(100,3, 2))\n",
    "arreglo"
   ]
  },
  {
   "cell_type": "code",
   "execution_count": 101,
   "metadata": {},
   "outputs": [
    {
     "data": {
      "text/plain": [
       "np.int64(240)"
      ]
     },
     "execution_count": 101,
     "metadata": {},
     "output_type": "execute_result"
    }
   ],
   "source": [
    "suma = arreglo.sum()\n",
    "suma"
   ]
  },
  {
   "cell_type": "code",
   "execution_count": 102,
   "metadata": {},
   "outputs": [
    {
     "data": {
      "text/plain": [
       "np.int32(0)"
      ]
     },
     "execution_count": 102,
     "metadata": {},
     "output_type": "execute_result"
    }
   ],
   "source": [
    "minimo=  arreglo.min()\n",
    "minimo"
   ]
  },
  {
   "cell_type": "code",
   "execution_count": 104,
   "metadata": {},
   "outputs": [
    {
     "data": {
      "text/plain": [
       "np.int32(18)"
      ]
     },
     "execution_count": 104,
     "metadata": {},
     "output_type": "execute_result"
    }
   ],
   "source": [
    "maximo = arreglo.max()\n",
    "maximo"
   ]
  },
  {
   "cell_type": "code",
   "execution_count": 136,
   "metadata": {},
   "outputs": [
    {
     "data": {
      "text/plain": [
       "array([   873,   2381,   2840,   4706,   5926,   7506,   8700,   9311,\n",
       "        11062,  12678,  13750,  15651,  16691,  17462,  19449,  20710,\n",
       "        22411,  22725,  23121,  24364,  25646,  26361,  26856,  28021,\n",
       "        28406,  29601,  31007,  31630,  32472,  34008,  34270,  35920,\n",
       "        36424,  37179,  37962,  39152,  39944,  40952,  42932,  44642,\n",
       "        45094,  46091,  46306,  47644,  48024,  48799,  49322,  50102,\n",
       "        50369,  51086,  51364,  52103,  52918,  54125,  54789,  55815,\n",
       "        57159,  58338,  58502,  59841,  61313,  61578,  61826,  62996,\n",
       "        64106,  64513,  65957,  66149,  67335,  67977,  69434,  71330,\n",
       "        72833,  73890,  75284,  75436,  77156,  78023,  78254,  78540,\n",
       "        79638,  79770,  81006,  82811,  83015,  84549,  85499,  85740,\n",
       "        87163,  87921,  89715,  90640,  91630,  93234,  94912,  95098,\n",
       "        96332,  97143,  98751,  99778, 100955, 102331, 103818, 105799,\n",
       "       106539, 106776, 108326, 108734, 108963, 109299, 111107, 111603,\n",
       "       112982, 113343, 113830, 115055, 115654, 116355, 116498, 118131,\n",
       "       118554, 119647, 121349, 122987, 123652, 123897, 125084, 127075,\n",
       "       127197, 128215, 129168, 129955, 130588, 131656, 133528, 134940,\n",
       "       136818, 137804, 138731, 140714, 141687, 143541, 144481, 145820,\n",
       "       147479, 149268, 150391, 151612, 152199, 153757, 155754, 157292,\n",
       "       158527, 160313, 161775, 162682, 163700, 164060, 164720, 165326,\n",
       "       166375, 167623, 168277, 170041, 171177, 171769, 173621, 173962,\n",
       "       175788, 176154, 177580, 179329, 180656, 182082, 182641, 183851,\n",
       "       185574, 187346, 188631, 189667, 191519, 192798, 194377, 195400,\n",
       "       196275, 197167, 198397, 198847, 200475, 201167, 201957, 203630,\n",
       "       205392, 207009, 207288, 208006, 208891, 209346, 210109, 211300,\n",
       "       211711, 212997, 213362, 213812, 215202, 215490, 217083, 218708,\n",
       "       219569, 220650, 222367, 222481, 223527, 223860, 225416, 225977,\n",
       "       226472, 227171, 227394, 228319, 230118, 230271, 230707, 232694,\n",
       "       234132, 235685, 236114, 236600, 237186, 238750, 239874, 240617,\n",
       "       241160, 242844, 244817, 245000, 245772, 246609, 248435, 250183,\n",
       "       251866, 253792, 255684, 256810, 258433, 259805, 260201, 261706,\n",
       "       263587, 263687, 264410, 265271, 266475, 267953, 268637, 270482,\n",
       "       270688, 271689, 273091, 273341, 274707, 276122, 277409, 278469,\n",
       "       278982, 279773, 280758, 282591, 284462, 285753, 286039, 287955,\n",
       "       289271, 290349, 291652, 292361, 293824, 294170, 295291, 296734,\n",
       "       297263, 297968, 298814, 300499, 302088, 303069, 303868, 303981,\n",
       "       304971, 306453, 308200, 309334, 310615, 312067, 312699, 314145,\n",
       "       316077, 318039, 319818, 320809, 322527, 322636, 323339, 325165,\n",
       "       325414, 326486, 327066, 328220, 329571, 329803, 329952, 331167,\n",
       "       332412, 333906, 335476, 337195, 337317, 337418, 339140, 340452,\n",
       "       342330, 343398, 344543, 346394, 347523, 349391, 351073, 351404,\n",
       "       353121, 355064, 356794, 358036, 358392, 359706, 361172, 361943,\n",
       "       362839, 363234, 364142, 365788, 367234, 367649, 369432, 370701,\n",
       "       372313, 374191, 375650, 376257, 377767, 379072, 380554, 380740,\n",
       "       381399, 383176, 384562, 386434, 387551, 388070, 389764, 391751,\n",
       "       392265, 394172, 395767, 396593, 398323, 400205, 402046, 402863,\n",
       "       403712, 404388, 405709, 405836, 407303, 408952, 409134, 409621,\n",
       "       410997, 411794, 411992, 412553, 413770, 415600, 415965, 417163,\n",
       "       417443, 418528, 420294, 420453, 422435, 424425, 426291, 426501,\n",
       "       426812, 428026, 429001, 430053, 430309, 430467, 430694, 431323,\n",
       "       433064, 433406, 434600, 435510, 436840, 438187, 439626, 441428,\n",
       "       442048, 443035, 444595, 445790, 447273, 448111, 449988, 450506,\n",
       "       452247, 454133, 455335, 456868, 458781, 460642, 460855, 460978,\n",
       "       461697, 463295, 464668, 466361, 466860, 467393, 469202, 470152,\n",
       "       471103, 471819, 473781, 475420, 476791, 478580, 480001, 480380,\n",
       "       481658, 483514, 485406, 485774, 486449, 487412, 487901, 489886,\n",
       "       490739, 492606, 492913, 493664, 495307, 496391, 496734, 498516,\n",
       "       499526, 500432, 501935, 502824, 503423, 503735, 503874, 504254,\n",
       "       506200, 506574, 507102, 508272, 508499, 509048, 510360, 510590,\n",
       "       511157, 512390, 512599, 513161, 514308, 515043, 515200, 516171,\n",
       "       516689, 517204, 518716, 519683, 520148, 521044, 522954, 523788,\n",
       "       525585, 525798, 526311, 526463, 526656, 527562, 527979, 529913,\n",
       "       531760, 532127, 534071, 535043, 535288, 535532, 536638, 537666,\n",
       "       539170, 540965, 541289, 541410, 541631, 542038, 543115, 544782,\n",
       "       545759, 546571, 547263, 547789, 549309, 550830, 551589, 552951,\n",
       "       554499, 555204, 556819, 558410, 559800, 560888, 562731, 563248,\n",
       "       564662, 565841, 567298, 568703, 569076, 569773, 570431, 570837,\n",
       "       570937, 571644, 572882, 574141, 575647, 577320, 577786, 579494,\n",
       "       579795, 581228, 582532, 583998, 585748, 587038, 587457, 588858,\n",
       "       589733, 591405, 593045, 594712, 595484, 597382, 598525, 599567,\n",
       "       601158, 601331, 603223, 604581, 605362, 605920, 606046, 606542,\n",
       "       606775, 608361, 609604, 609987, 610958, 612271, 613500, 615328,\n",
       "       616858, 617256, 618492, 619302, 619473, 620279, 620614, 621864,\n",
       "       622996, 624483, 624741, 625158, 625328, 626660, 628423, 630088,\n",
       "       630726, 631146, 633126, 634277, 635252, 635545, 636649, 637123])"
      ]
     },
     "execution_count": 136,
     "metadata": {},
     "output_type": "execute_result"
    }
   ],
   "source": [
    "cumsum = arreglo.cumsum()\n",
    "#cumsum.tolist()[::-1]\n",
    "cumsum"
   ]
  },
  {
   "cell_type": "code",
   "execution_count": 112,
   "metadata": {},
   "outputs": [
    {
     "data": {
      "text/plain": [
       "np.float64(9.916666666666666)"
      ]
     },
     "execution_count": 112,
     "metadata": {},
     "output_type": "execute_result"
    }
   ],
   "source": [
    "promedio = arreglo.mean()\n",
    "promedio"
   ]
  },
  {
   "cell_type": "code",
   "execution_count": 111,
   "metadata": {},
   "outputs": [
    {
     "data": {
      "text/plain": [
       "np.float64(6.10270887029322)"
      ]
     },
     "execution_count": 111,
     "metadata": {},
     "output_type": "execute_result"
    }
   ],
   "source": [
    "deviacion_estandar = arreglo.std()\n",
    "deviacion_estandar"
   ]
  },
  {
   "cell_type": "markdown",
   "metadata": {},
   "source": [
    "## GRAFICO CON CUMSUM"
   ]
  },
  {
   "cell_type": "code",
   "execution_count": 122,
   "metadata": {},
   "outputs": [],
   "source": [
    "import matplotlib.pyplot as plt"
   ]
  },
  {
   "cell_type": "code",
   "execution_count": 187,
   "metadata": {},
   "outputs": [
    {
     "data": {
      "image/png": "[encoded data removed]",
      "text/plain": [
       "<Figure size 640x480 with 1 Axes>"
      ]
     },
     "metadata": {},
     "output_type": "display_data"
    }
   ],
   "source": [
    "dominio_x = np.linspace(0,20)\n",
    "\n",
    "def funcion_uno(x):\n",
    "    return x* np.sin(x)\n",
    "\n",
    "def funcion_dos(x):\n",
    "    return x*np.cos(x)\n",
    "\n",
    "dominio_y = funcion_uno(dominio_x)\n",
    "dominio_y2 = funcion_dos(dominio_x)\n",
    "x_puntos_exactos = np.array([2, 4,10])\n",
    "puntos_exactos = np.array(x_puntos_exactos)*np.sin(x_puntos_exactos)\n",
    "plt.plot(dominio_x, dominio_y, \"r+\", dominio_x, dominio_y2,\"g+\", x_puntos_exactos, puntos_exactos, \"b*\")\n",
    "\n",
    "\n",
    "plt.show()"
   ]
  },
  {
   "cell_type": "code",
   "execution_count": 212,
   "metadata": {},
   "outputs": [
    {
     "data": {
      "image/png": "[encoded data removed]",
      "text/plain": [
       "<Figure size 640x480 with 1 Axes>"
      ]
     },
     "metadata": {},
     "output_type": "display_data"
    }
   ],
   "source": [
    "x_scarter = np.random.randint(0,20 , (1,10))\n",
    "def funcion(x):\n",
    "    return np.cos(x)\n",
    "y_scarter = funcion(x_scarter)\n",
    "plt.scatter(x_scarter, y_scarter)\n",
    "plt.show()"
   ]
  },
  {
   "cell_type": "code",
   "execution_count": 233,
   "metadata": {},
   "outputs": [
    {
     "data": {
      "image/png": "[encoded data removed]",
      "text/plain": [
       "<Figure size 640x480 with 1 Axes>"
      ]
     },
     "metadata": {},
     "output_type": "display_data"
    }
   ],
   "source": [
    "numeros_barra = np.random.randint(20, 100, (20,))\n",
    "\n",
    "\n",
    "plt.bar(numeros_barra, funcion_dos(numeros_barra))\n",
    "plt.show()"
   ]
  },
  {
   "cell_type": "code",
   "execution_count": null,
   "metadata": {},
   "outputs": [],
   "source": []
  }
 ],
 "metadata": {
  "kernelspec": {
   "display_name": "Python 3",
   "language": "python",
   "name": "python3"
  },
  "language_info": {
   "codemirror_mode": {
    "name": "ipython",
    "version": 3
   },
   "file_extension": ".py",
   "mimetype": "text/x-python",
   "name": "python",
   "nbconvert_exporter": "python",
   "pygments_lexer": "ipython3",
   "version": "3.12.2"
  }
 },
 "nbformat": 4,
 "nbformat_minor": 2
}
