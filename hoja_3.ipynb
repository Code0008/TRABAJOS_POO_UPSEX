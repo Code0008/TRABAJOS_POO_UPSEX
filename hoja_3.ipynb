{
 "cells": [
  {
   "cell_type": "code",
   "execution_count": null,
   "metadata": {},
   "outputs": [],
   "source": [
    "numero = 1\n",
    "\n",
    "for num in range(1, 3):\n",
    "    numero += (1/(num*2))\n",
    "\n",
    "numero"
   ]
  },
  {
   "cell_type": "code",
   "execution_count": null,
   "metadata": {},
   "outputs": [],
   "source": [
    "to_som = False\n",
    "numero =1 \n",
    "for num in range(1, 3):\n",
    "    current= 1/(num*2)\n",
    "    if to_som:\n",
    "        numero+= current\n",
    "    else:\n",
    "        numero-= current\n",
    "        to_som=True\n",
    "\n",
    "numero"
   ]
  },
  {
   "cell_type": "code",
   "execution_count": null,
   "metadata": {},
   "outputs": [],
   "source": [
    "numero = \"1234567\"\n",
    "\n",
    "print(numero[::-1])\n",
    "\n",
    "\n",
    "\n",
    "\n"
   ]
  },
  {
   "cell_type": "code",
   "execution_count": 22,
   "metadata": {},
   "outputs": [
    {
     "data": {
      "text/plain": [
       "0.75"
      ]
     },
     "execution_count": 22,
     "metadata": {},
     "output_type": "execute_result"
    }
   ],
   "source": [
    "to_som = False\n",
    "numero =1 \n",
    "for num in range(1, 3):\n",
    "    current= 1/(num*2)\n",
    "    if to_som:\n",
    "        numero+= current\n",
    "    else:\n",
    "        numero-= current\n",
    "        to_som=True\n",
    "\n",
    "numero"
   ]
  },
  {
   "cell_type": "code",
   "execution_count": 36,
   "metadata": {},
   "outputs": [
    {
     "name": "stdout",
     "output_type": "stream",
     "text": [
      "6\n",
      "28\n",
      "2\n"
     ]
    }
   ],
   "source": [
    "#perfectos \n",
    "\n",
    "def valido_perfecto(numero):\n",
    "    suma= 0\n",
    "    for num in range(1, numero):\n",
    "        if numero%num == 0:\n",
    "            suma+=num\n",
    "    if suma==numero:\n",
    "        return True\n",
    "    return False\n",
    "    \n",
    "\n",
    "def contador_perfectos(numero):\n",
    "    contador = 0\n",
    "    for num in range(1, numero+1):\n",
    "        if valido_perfecto(num):\n",
    "            contador+=1\n",
    "            print(num)\n",
    "    return contador\n",
    "\n",
    "print(contador_perfectos(30))"
   ]
  },
  {
   "cell_type": "code",
   "execution_count": 73,
   "metadata": {},
   "outputs": [
    {
     "data": {
      "text/plain": [
       "54"
      ]
     },
     "execution_count": 73,
     "metadata": {},
     "output_type": "execute_result"
    }
   ],
   "source": [
    "\n",
    "\n",
    "def fibonacci(numero):\n",
    "    if numero==1 or numero==0:\n",
    "        return 1\n",
    "    return fibonacci(numero-1) +  fibonacci(numero-2)\n",
    "\n",
    "temp=  0\n",
    "for num in range(0, 8):\n",
    "    temp+=fibonacci(num)\n",
    "\n",
    "temp"
   ]
  },
  {
   "cell_type": "code",
   "execution_count": 13,
   "metadata": {},
   "outputs": [
    {
     "name": "stdout",
     "output_type": "stream",
     "text": [
      "mujeres: 1\n",
      "\n",
      "    porcentaje hombres= 80.0\n",
      "    porcentaje mujeres= 20.0\n",
      "    \n",
      "3\n",
      "\n",
      "        Genero: F\n",
      "        edad: 13\n",
      "        Estado: S |\n",
      "        Genero: M\n",
      "        edad: 68\n",
      "        Estado: C |\n",
      "        Genero: M\n",
      "        edad: 8\n",
      "        Estado: C |\n",
      "        Genero: M\n",
      "        edad: 54\n",
      "        Estado: D |\n",
      "        Genero: M\n",
      "        edad: 35\n",
      "        Estado: V |\n",
      "        Genero: M\n",
      "        edad: 32\n",
      "        Estado: C |\n",
      "        Genero: M\n",
      "        edad: 63\n",
      "        Estado: D |\n",
      "        Genero: M\n",
      "        edad: 13\n",
      "        Estado: C |\n",
      "        Genero: F\n",
      "        edad: 58\n",
      "        Estado: D |\n",
      "        Genero: M\n",
      "        edad: 16\n",
      "        Estado: S |"
     ]
    }
   ],
   "source": [
    "from random import *\n",
    "tamano = 10\n",
    "encuesta= [[choice(['M', 'F']) for _ in range(tamano)], \n",
    "           [randint(0, 75) for _ in range(tamano)],\n",
    "           [choice(['S','V', 'C', 'D']) for _ in range(tamano)]]\n",
    "\n",
    "def calcular_edades():\n",
    "    contador= 0\n",
    "    indice= 0\n",
    "    for edad in encuesta[1]:\n",
    "        if (21<edad>16) and (encuesta[2][indice]=='V') :\n",
    "            contador+=1\n",
    "        indice+=1\n",
    "    return contador\n",
    "\n",
    "def porcentaje():\n",
    "    contadores_h_m=[0,0]\n",
    "    for genero in encuesta[0]:\n",
    "        if genero=='M':\n",
    "            contadores_h_m[0]+=1\n",
    "        else:\n",
    "            contadores_h_m[1]+=1\n",
    "\n",
    "    return f\"\"\"\n",
    "    porcentaje hombres= {(contadores_h_m[0]*100)/tamano}\n",
    "    porcentaje mujeres= {(contadores_h_m[1]*100)/tamano}\n",
    "    \"\"\"\n",
    "\n",
    "def solteros_o_divorciados():\n",
    "    contador= 0\n",
    "    indice= 0\n",
    "    for situacion in encuesta[2]:\n",
    "        if situacion in ('S', 'D') and encuesta[0][indice]=='M':\n",
    "            contador+=1\n",
    "        indice+=1\n",
    "    return contador\n",
    "\n",
    "def imprimir_todos_los_resultados():\n",
    "    for i in range(0, 10):\n",
    "        print(f\"\"\"\n",
    "        Genero: {encuesta[0][i]}\n",
    "        edad: {encuesta[1][i]}\n",
    "        Estado: {encuesta[2][i]} \"\"\", end='|')\n",
    "        \n",
    "print(f\"mujeres: {calcular_edades()}\")\n",
    "print(porcentaje())\n",
    "print(solteros_o_divorciados())\n",
    "imprimir_todos_los_resultados()"
   ]
  },
  {
   "cell_type": "code",
   "execution_count": 113,
   "metadata": {},
   "outputs": [
    {
     "name": "stdout",
     "output_type": "stream",
     "text": [
      "1\n",
      "\n",
      "12\n",
      "\n",
      "123\n",
      "\n",
      "1234\n",
      "\n",
      "12345\n",
      "\n",
      "123456\n",
      "\n"
     ]
    }
   ],
   "source": [
    "for _ in range(1, 6+1):\n",
    "    for i in range(1,_+1):\n",
    "        print(i, end=\"\")\n",
    "    print(\"\\n\")"
   ]
  },
  {
   "cell_type": "code",
   "execution_count": 118,
   "metadata": {},
   "outputs": [
    {
     "name": "stdout",
     "output_type": "stream",
     "text": [
      "********\n",
      "*******\n",
      "******\n",
      "*****\n",
      "****\n",
      "***\n",
      "**\n",
      "*\n"
     ]
    }
   ],
   "source": [
    "char = '*'\n",
    "\n",
    "for _ in range(0, 8):\n",
    "    for j in range(8-_,0, -1):\n",
    "        print(char, end='')\n",
    "    print(\"\")"
   ]
  },
  {
   "cell_type": "code",
   "execution_count": 1,
   "metadata": {},
   "outputs": [
    {
     "name": "stdout",
     "output_type": "stream",
     "text": [
      "          1 \n",
      "        1 2 1 \n",
      "      1 2 3 2 1 \n",
      "    1 2 3 4 3 2 1 \n",
      "  1 2 3 4 5 4 3 2 1 \n",
      "1 2 3 4 5 6 5 4 3 2 1 \n"
     ]
    }
   ],
   "source": [
    "def imprimir_piramide(n):\n",
    "    for i in range(1, n+1):\n",
    "        print('  '*(n-i), end='')\n",
    "\n",
    "        for j in range(1, i+1):\n",
    "            print(j, end=\" \")\n",
    "\n",
    "        for j in range(i-1, 0, -1):\n",
    "            print(j, end=\" \")\n",
    "        print()\n",
    "imprimir_piramide(6)"
   ]
  },
  {
   "cell_type": "code",
   "execution_count": 186,
   "metadata": {},
   "outputs": [
    {
     "name": "stdout",
     "output_type": "stream",
     "text": [
      "*\n",
      "*  * \n",
      "*    * \n",
      "*      * \n",
      "*        * \n",
      "*          * \n",
      "*            * \n",
      "* * * * * * * "
     ]
    }
   ],
   "source": [
    "for i in range(0, 6+1):\n",
    "    print('*', end='')\n",
    "    for j in range(1, i+1 ):\n",
    "        print(' ', end=' ')\n",
    "        if i==j:\n",
    "            print('*', end=' ')\n",
    "    print()\n",
    "for i in range(0, 6+1):\n",
    "    print('*', end=' ')"
   ]
  },
  {
   "cell_type": "code",
   "execution_count": 249,
   "metadata": {},
   "outputs": [
    {
     "name": "stdout",
     "output_type": "stream",
     "text": [
      "* * * * * * * \n",
      "* *         * \n",
      "*   *       * \n",
      "*     *     * \n",
      "*       *   * \n",
      "*         * * \n",
      "* * * * * * * \n"
     ]
    }
   ],
   "source": [
    "for i in range(0, 7):\n",
    "    for j in range(0, 7): \n",
    "        if j==i or j==0 or j==6 or i == 0 or i==6 :\n",
    "            print('*', end=' ')\n",
    "        else:\n",
    "            print(' ', end=' ')\n",
    "    print()"
   ]
  },
  {
   "cell_type": "code",
   "execution_count": 272,
   "metadata": {},
   "outputs": [
    {
     "name": "stdout",
     "output_type": "stream",
     "text": [
      "-1\n",
      "7\n",
      "30.09871871999999\n"
     ]
    },
    {
     "data": {
      "text/plain": [
       "3.7623398399999988"
      ]
     },
     "execution_count": 272,
     "metadata": {},
     "output_type": "execute_result"
    }
   ],
   "source": [
    "import numpy as np\n",
    "n = 4\n",
    "a= 1.2\n",
    "multiplicador = pow(-1, n+1)\n",
    "print(multiplicador)\n",
    "\n",
    "numerador = (2*n)-1\n",
    "print(numerador)\n",
    "numerador *= pow(a, pow(2, n-1))\n",
    "print(numerador)\n",
    "numerador/8"
   ]
  },
  {
   "cell_type": "code",
   "execution_count": 279,
   "metadata": {},
   "outputs": [
    {
     "data": {
      "text/plain": [
       "120"
      ]
     },
     "execution_count": 279,
     "metadata": {},
     "output_type": "execute_result"
    }
   ],
   "source": [
    "def factorial(nume):\n",
    "    current= 1\n",
    "    for num in range(1, nume+1):\n",
    "        current *= num\n",
    "    return current\n",
    "\n",
    "factorial(5)"
   ]
  },
  {
   "cell_type": "code",
   "execution_count": 281,
   "metadata": {},
   "outputs": [
    {
     "data": {
      "text/plain": [
       "0.16666666666666666"
      ]
     },
     "execution_count": 281,
     "metadata": {},
     "output_type": "execute_result"
    }
   ],
   "source": [
    "s= 20/factorial(5)\n",
    "s"
   ]
  },
  {
   "cell_type": "code",
   "execution_count": 282,
   "metadata": {},
   "outputs": [
    {
     "data": {
      "text/plain": [
       "42.666666666666664"
      ]
     },
     "execution_count": 282,
     "metadata": {},
     "output_type": "execute_result"
    }
   ],
   "source": [
    "n=4\n",
    "s= n**(n+1)\n",
    "s/factorial(n)"
   ]
  },
  {
   "cell_type": "code",
   "execution_count": 283,
   "metadata": {},
   "outputs": [
    {
     "name": "stdout",
     "output_type": "stream",
     "text": [
      "\n",
      "menor 40: 1\n",
      "50-40: 3\n",
      "60-50: 2\n",
      "mayor 60: -1\n",
      "\n"
     ]
    }
   ],
   "source": [
    "encuesta_alumnos = []\n",
    "contadores = [0,0,0,0]\n",
    "n= 7\n",
    "for _ in range(n):\n",
    "    encuesta_alumnos.append(int(input(f\"Ingrese peso de alumno{_+1}: \")))\n",
    "\n",
    "for alumno in encuesta_alumnos:\n",
    "    if alumno<40:\n",
    "        contadores[0]+=1\n",
    "    if 50>alumno>30:\n",
    "        contadores[1]+=1\n",
    "    if 60>alumno>50:\n",
    "        contadores[2]+=1\n",
    "\n",
    "alumnos_mayor_sesenta = n-sum(contadores[:3])\n",
    "\n",
    "print(f\"\"\"\n",
    "menor 40: {contadores[0]}\n",
    "50-40: {contadores[1]}\n",
    "60-50: {contadores[2]}\n",
    "mayor 60: {alumnos_mayor_sesenta}\n",
    "\"\"\")"
   ]
  },
  {
   "cell_type": "code",
   "execution_count": 285,
   "metadata": {},
   "outputs": [
    {
     "name": "stdout",
     "output_type": "stream",
     "text": [
      "\n",
      "menor cuarenta 1\n",
      "cuarenta cincuenta 3\n",
      "sesenta ciencenta 2\n",
      "mayores de sesenta  -1\n",
      "\n",
      "\n"
     ]
    }
   ],
   "source": [
    "n= 7\n",
    "contador_menor_cuarenta = 0\n",
    "contador_cuarenta_cincuenta = 0 \n",
    "contador_sesenta_cincuena = 0\n",
    "for _ in range(n):\n",
    "    current_encuestado = int(input(f\"Ingrese peso de alumno{_+1}: \"))\n",
    "    if current_encuestado<40:\n",
    "        contador_menor_cuarenta+=1\n",
    "    if 50>=current_encuestado>=40:\n",
    "        contador_cuarenta_cincuenta+=1\n",
    "    if 60>current_encuestado>50:\n",
    "        contador_sesenta_cincuena+=1\n",
    "print(f\"\"\"\n",
    "menor cuarenta {contador_menor_cuarenta}\n",
    "cuarenta cincuenta {contador_cuarenta_cincuenta}\n",
    "sesenta ciencenta {contador_sesenta_cincuena}\n",
    "mayores de sesenta  {n-(contador_sesenta_cincuena+contador_cuarenta_cincuenta+contador_menor_cuarenta)}\n",
    "\n",
    "\"\"\")"
   ]
  },
  {
   "cell_type": "code",
   "execution_count": 334,
   "metadata": {},
   "outputs": [
    {
     "data": {
      "text/plain": [
       "100"
      ]
     },
     "execution_count": 334,
     "metadata": {},
     "output_type": "execute_result"
    }
   ],
   "source": [
    "\n",
    "numero = 10\n",
    "noprimo= 1\n",
    "suma=1\n",
    "for _ in range(numero-1):\n",
    "    noprimo+=2\n",
    "    suma+=noprimo\n",
    "\n",
    "suma"
   ]
  },
  {
   "cell_type": "code",
   "execution_count": 337,
   "metadata": {},
   "outputs": [
    {
     "data": {
      "text/plain": [
       "55"
      ]
     },
     "execution_count": 337,
     "metadata": {},
     "output_type": "execute_result"
    }
   ],
   "source": [
    "suma = 0\n",
    "\n",
    "for i in range(1, 11):\n",
    "    suma+=i\n",
    "suma"
   ]
  }
 ],
 "metadata": {
  "kernelspec": {
   "display_name": "Python 3",
   "language": "python",
   "name": "python3"
  },
  "language_info": {
   "codemirror_mode": {
    "name": "ipython",
    "version": 3
   },
   "file_extension": ".py",
   "mimetype": "text/x-python",
   "name": "python",
   "nbconvert_exporter": "python",
   "pygments_lexer": "ipython3",
   "version": "3.12.2"
  }
 },
 "nbformat": 4,
 "nbformat_minor": 2
}
