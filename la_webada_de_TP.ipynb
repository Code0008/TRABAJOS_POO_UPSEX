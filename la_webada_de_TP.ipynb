{
 "cells": [
  {
   "cell_type": "code",
   "execution_count": 42,
   "metadata": {},
   "outputs": [
    {
     "name": "stdout",
     "output_type": "stream",
     "text": [
      "\n",
      "    //////////////////////////////////////////////////\n",
      "            BIENVENIDO AL JUEGO DE TREZ EN RAYA \n",
      "    //////////////////////////////////////////////////\n",
      "    \n",
      "Columna  0     1     2\n",
      "Fila 0: ['.', '.', '.']\n",
      "Fila 1: ['.', '.', '.']\n",
      "Fila 2: ['.', '.', '.']\n"
     ]
    },
    {
     "ename": "IndexError",
     "evalue": "list index out of range",
     "output_type": "error",
     "traceback": [
      "\u001b[1;31m---------------------------------------------------------------------------\u001b[0m",
      "\u001b[1;31mIndexError\u001b[0m                                Traceback (most recent call last)",
      "Cell \u001b[1;32mIn[42], line 90\u001b[0m\n\u001b[0;32m     87\u001b[0m                 \u001b[38;5;28;01mbreak\u001b[39;00m\n\u001b[0;32m     88\u001b[0m         sanciones\u001b[38;5;241m=\u001b[39m [\u001b[38;5;28;01mFalse\u001b[39;00m, \u001b[38;5;28;01mFalse\u001b[39;00m]\n\u001b[1;32m---> 90\u001b[0m \u001b[43mmenu\u001b[49m\u001b[43m(\u001b[49m\u001b[43m)\u001b[49m\n",
      "Cell \u001b[1;32mIn[42], line 76\u001b[0m, in \u001b[0;36mmenu\u001b[1;34m()\u001b[0m\n\u001b[0;32m     74\u001b[0m \u001b[38;5;28;01mwhile\u001b[39;00m \u001b[38;5;129;01mnot\u001b[39;00m (sanciones[\u001b[38;5;241m0\u001b[39m]):\n\u001b[0;32m     75\u001b[0m     jugador_uno \u001b[38;5;241m=\u001b[39m ingreso_de_jugador(\u001b[38;5;241m1\u001b[39m)\n\u001b[1;32m---> 76\u001b[0m     sanciones[\u001b[38;5;241m0\u001b[39m] \u001b[38;5;241m=\u001b[39m \u001b[43mactualizar_casilla\u001b[49m\u001b[43m(\u001b[49m\u001b[43mentrada\u001b[49m\u001b[38;5;241;43m=\u001b[39;49m\u001b[43mjugador_uno\u001b[49m\u001b[38;5;241;43m.\u001b[39;49m\u001b[43mcopy\u001b[49m\u001b[43m(\u001b[49m\u001b[43m)\u001b[49m\u001b[43m,\u001b[49m\u001b[43m \u001b[49m\u001b[43mcaracter\u001b[49m\u001b[38;5;241;43m=\u001b[39;49m\u001b[38;5;124;43m'\u001b[39;49m\u001b[38;5;124;43mX\u001b[39;49m\u001b[38;5;124;43m'\u001b[39;49m\u001b[43m)\u001b[49m\n\u001b[0;32m     77\u001b[0m impresion()\n\u001b[0;32m     78\u001b[0m \u001b[38;5;28;01mwhile\u001b[39;00m \u001b[38;5;129;01mnot\u001b[39;00m (sanciones[\u001b[38;5;241m1\u001b[39m]):\n",
      "Cell \u001b[1;32mIn[42], line 57\u001b[0m, in \u001b[0;36mactualizar_casilla\u001b[1;34m(entrada, caracter)\u001b[0m\n\u001b[0;32m     56\u001b[0m \u001b[38;5;28;01mdef\u001b[39;00m \u001b[38;5;21mactualizar_casilla\u001b[39m(entrada, caracter):    \n\u001b[1;32m---> 57\u001b[0m     \u001b[38;5;28;01mif\u001b[39;00m \u001b[43mtablero\u001b[49m\u001b[43m[\u001b[49m\u001b[43mentrada\u001b[49m\u001b[43m[\u001b[49m\u001b[38;5;241;43m0\u001b[39;49m\u001b[43m]\u001b[49m\u001b[43m]\u001b[49m\u001b[43m[\u001b[49m\u001b[43mentrada\u001b[49m\u001b[43m[\u001b[49m\u001b[38;5;241;43m1\u001b[39;49m\u001b[43m]\u001b[49m\u001b[43m]\u001b[49m \u001b[38;5;241m!=\u001b[39m \u001b[38;5;124m'\u001b[39m\u001b[38;5;124m*\u001b[39m\u001b[38;5;124m'\u001b[39m:\n\u001b[0;32m     58\u001b[0m         \u001b[38;5;28;01mreturn\u001b[39;00m \u001b[38;5;28;01mFalse\u001b[39;00m\n\u001b[0;32m     59\u001b[0m     \u001b[38;5;28;01melse\u001b[39;00m:\n",
      "\u001b[1;31mIndexError\u001b[0m: list index out of range"
     ]
    }
   ],
   "source": [
    "tablero  = [['.', '.', '.'] for _ in range(3)]\n",
    "#tablero = [\n",
    "   # ['X','*','X'],\n",
    "    #['*','X','*'],\n",
    "    #['X','*','X']\n",
    "#]\n",
    "\n",
    "\n",
    "def impresion():\n",
    "    print(f\"Columna  0     1     2\")\n",
    "    for  indice, fila in enumerate(tablero):\n",
    "        print(f\"Fila {indice}: {fila}\")\n",
    "\n",
    "\n",
    "def ingreso_de_jugador(jugador):\n",
    "    entrada = []\n",
    "    while not (entrada and len(entrada)== 2 and (entrada[0].isdigit() and entrada[1].isdigit())):\n",
    "        entrada = input(f\"\"\"\n",
    "                        Ingrese jugador {jugador} las cordenadas en el siguiente formato\n",
    "                         ' FILA:COLUMNA '-> EJEMPLO: 0:1 \n",
    "                        \"\"\").split(\":\") \n",
    "        \n",
    "    return [ int(digito) for digito in entrada]\n",
    "\n",
    "\n",
    "def validador_filas_columnas_diagonales(jugador):\n",
    "    # filas, columnas\n",
    "    raya = {\n",
    "       1: ['X', 'X', 'X'] ,\n",
    "       2: ['O', 'O', 'O'] \n",
    "    }\n",
    "    for fila in tablero: # validar filas\n",
    "        if fila == raya[jugador]:\n",
    "            return True\n",
    "              \n",
    "    for columnas in range(3): # validar colmnas\n",
    "        columna_actual = []\n",
    "        for filas in range(3):\n",
    "            columna_actual.append(tablero[filas][columnas])\n",
    "        if columna_actual == raya[jugador]:\n",
    "            return True\n",
    "        \n",
    "    diagonales_actuales = [\n",
    "        [], #-> inversa\n",
    "        [] # \"normal\"\n",
    "    ]\n",
    "    for indice in range(1,4): # validar diagonale inversa\n",
    "        diagonales_actuales[0].append(tablero[-indice][indice-1])\n",
    "    for indice in range(3): # validar diagonal normal \n",
    "        diagonales_actuales[1].append(tablero[indice][indice])\n",
    "    if (diagonales_actuales[0]==raya[jugador]) or (diagonales_actuales[1]==raya[jugador]):\n",
    "        return True\n",
    "    return False\n",
    "\n",
    "\n",
    "def actualizar_casilla(entrada, caracter):    \n",
    "    if tablero[entrada[0]][entrada[1]] != '*':\n",
    "        return False\n",
    "    else:\n",
    "        tablero[entrada[0]][entrada[1]] == caracter\n",
    "        return True\n",
    "    \n",
    "def menu():\n",
    "    print(f\"\"\"\n",
    "    //////////////////////////////////////////////////\n",
    "            BIENVENIDO AL JUEGO DE TREZ EN RAYA \n",
    "    //////////////////////////////////////////////////\n",
    "    \"\"\")\n",
    "    sanciones = [False, # jugador uno\n",
    "                  False # jugador dos\n",
    "                  ] \n",
    "    while True:\n",
    "        \n",
    "\n",
    "menu()"
   ]
  },
  {
   "cell_type": "code",
   "execution_count": 27,
   "metadata": {},
   "outputs": [
    {
     "data": {
      "text/plain": [
       "[1, 2, 3]"
      ]
     },
     "execution_count": 27,
     "metadata": {},
     "output_type": "execute_result"
    }
   ],
   "source": [
    "adivina el numero   "
   ]
  },
  {
   "cell_type": "code",
   "execution_count": null,
   "metadata": {},
   "outputs": [],
   "source": [
    "from random import *\n",
    "def numero_random():\n",
    "    numero_a_descubrir =  randint(0, 20)\n",
    "    intentos =  0\n",
    "    entrada = 0\n",
    "    \n",
    "    while not (intentos<6 and entrada==numero_a_descubrir ):\n",
    "        try:\n",
    "            entrada = int(input(\"Ingrese numero: \"))    \n",
    "        except Exception as e:\n",
    "            continue\n",
    "        finally:\n",
    "            intentos+=1\n",
    "    else:\n",
    "        print(f\"Felicidades encontraste el numero en el intento {intentos}\")    "
   ]
  }
 ],
 "metadata": {
  "kernelspec": {
   "display_name": "Python 3",
   "language": "python",
   "name": "python3"
  },
  "language_info": {
   "codemirror_mode": {
    "name": "ipython",
    "version": 3
   },
   "file_extension": ".py",
   "mimetype": "text/x-python",
   "name": "python",
   "nbconvert_exporter": "python",
   "pygments_lexer": "ipython3",
   "version": "3.12.2"
  }
 },
 "nbformat": 4,
 "nbformat_minor": 2
}
