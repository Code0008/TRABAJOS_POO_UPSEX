{
 "cells": [
  {
   "cell_type": "code",
   "execution_count": 2,
   "metadata": {},
   "outputs": [],
   "source": [
    "import numpy as np\n",
    "from random import *"
   ]
  },
  {
   "cell_type": "code",
   "execution_count": 9,
   "metadata": {},
   "outputs": [
    {
     "data": {
      "text/plain": [
       "1.0749579113843055"
      ]
     },
     "execution_count": 9,
     "metadata": {},
     "output_type": "execute_result"
    }
   ],
   "source": [
    "def suma_serie(n, x):\n",
    "    resultado = np.sqrt(x)/(1+x)\n",
    "    for num in range(2, n+1):\n",
    "        resultado+= (np.sqrt(x) + num-1)/(num+x)\n",
    "\n",
    "    return float(resultado)\n",
    "\n",
    "suma_serie(n=2, x=2)"
   ]
  },
  {
   "cell_type": "code",
   "execution_count": 12,
   "metadata": {},
   "outputs": [
    {
     "data": {
      "text/plain": [
       "[(1, 2), (1, 6), (4, 7), (1, 2), (3, 4), (5, 6)]"
      ]
     },
     "execution_count": 12,
     "metadata": {},
     "output_type": "execute_result"
    }
   ],
   "source": [
    "def ingresar_cordenadas():\n",
    "    total = []\n",
    "    pasos = 345 \n",
    "    while pasos>0:\n",
    "        current = (int(input(f\"Ingrese x{3-pasos+1}\")),\n",
    "                        int(input(f\"Ingrese y{3-pasos+1}\")))\n",
    "        total.append(current)\n",
    "        pasos-=1\n",
    "    return total\n",
    "\n",
    "ingresar_cordenadas()"
   ]
  },
  {
   "cell_type": "code",
   "execution_count": 15,
   "metadata": {},
   "outputs": [
    {
     "data": {
      "text/plain": [
       "-6.0"
      ]
     },
     "execution_count": 15,
     "metadata": {},
     "output_type": "execute_result"
    }
   ],
   "source": [
    "def calcular_area(lista_cordenadas):\n",
    "    \n",
    "    # [0] (x1,y2)\n",
    "    # [1] (x2,y2)\n",
    "    # [2] (x3,y3)\n",
    "    return (1/2)*(lista_cordenadas[0][0]*(lista_cordenadas[1][1]-lista_cordenadas[2][1]) + lista_cordenadas[1][0]*(lista_cordenadas[2][1]- lista_cordenadas[0][1]) + lista_cordenadas[2][0]*(lista_cordenadas[0][1]- lista_cordenadas[1][1]))\n",
    "\n",
    "calcular_area([(1, 2), (1, 6), (4, 7)])"
   ]
  },
  {
   "cell_type": "code",
   "execution_count": 24,
   "metadata": {},
   "outputs": [
    {
     "name": "stdout",
     "output_type": "stream",
     "text": [
      "(np.float64(3.0), np.float64(2.9154759474226504), np.float64(2.9154759474226504))\n",
      "False\n"
     ]
    }
   ],
   "source": [
    "def distancia_entre_dos_puntos(tupla_uno, tupla_dos):\n",
    "                                # (x1, y1), (x2, y2)\n",
    "                                # (x2, y2),  (x3, y3)\n",
    "                                # (x1, y1),  (x3, y3)\n",
    "    return np.sqrt((tupla_dos[0] - tupla_uno[0])**2 + (tupla_dos[1] - tupla_uno[1])**2)\n",
    "                    #x2          -   x1             + y2           -    y1\n",
    "                    #x3         -   x2              + y3    -       y2\n",
    "                    #x3-x1\n",
    "def obetener_distancias(lista_codenadas):\n",
    "    AB = distancia_entre_dos_puntos(tupla_uno=lista_codenadas[0], tupla_dos=lista_codenadas[1])\n",
    "    BC = distancia_entre_dos_puntos(tupla_uno=lista_codenadas[1],tupla_dos=lista_codenadas[2])\n",
    "    CA =distancia_entre_dos_puntos(tupla_uno=lista_codenadas[0],tupla_dos=lista_codenadas[2])\n",
    "    return (AB, BC, CA)\n",
    "\n",
    "\n",
    "resultados =  obetener_distancias([(1, 1), (4, 1), (2.5, 3.5)])\n",
    "print(resultados)\n",
    "if resultados[0] == resultados[1] == resultados[2]:\n",
    "    print(True)\n",
    "else:\n",
    "    print(False)  \n"
   ]
  },
  {
   "cell_type": "code",
   "execution_count": 28,
   "metadata": {},
   "outputs": [],
   "source": [
    "class Auto:\n",
    "    def __init__(self, marca, material, transmision, cilindrada) -> None:\n",
    "        self.__marca = marca\n",
    "        self.__material = material\n",
    "        self.__tipo_transmision = transmision\n",
    "        self.__cilindrada = cilindrada\n",
    "    def __str__(self) -> str:\n",
    "        return f\"\"\"\n",
    "        Marca: {self.__marca}\n",
    "        Material: {self.__material}\n",
    "        Tipo transmision: {self.__tipo_transmision}\n",
    "        Cilindrada : {self.__cilindrada}m^2\n",
    "        \"\"\"\n",
    "class Sedan(Auto):\n",
    "    def __init__(self, marca, material, transmision, cilindrada, suspension) -> None:\n",
    "        super().__init__(marca, material, transmision, cilindrada)\n",
    "        self.__tipo = \"Sedan\"\n",
    "        self.__costo_tipo_suspension = 0\n",
    "        match suspension:\n",
    "            case 'P': self.__costo_tipo_suspension = 1400\n",
    "            case 'D': self.__costo_tipo_suspension = 1500\n",
    "            case 'O': self.__costo_tipo_suspension = 1800\n",
    "        self.__precio_base = 40000\n",
    "        \n",
    "    def precio_final(self):\n",
    "        return self.__precio_base + self.__costo_tipo_suspension\n",
    "    \n",
    "    def __str__(self) -> str:\n",
    "        return super().__str__(), f\"\"\" \n",
    "        Tipo:{self.__tipo}\n",
    "     Precio final: {self.precio_final()}         \n",
    "   \"\"\"\n",
    "\n",
    "    \n",
    "class Hatchbak(Auto):\n",
    "    def __init__(self, marca, material, transmision, cilindrada) -> None:\n",
    "        super().__init__(marca, material, transmision, cilindrada)\n",
    "        \n",
    "        match choice([2,4]):\n",
    "            case 2: self.__monto_porcentaje_segun_tiempo_encender =  1.20\n",
    "            case 4: self.__monto_porcentaje_segun_tiempo_encender = 1.10\n",
    "        self.__precio_base = 44000\n",
    "\n",
    "    def precio_final(self):\n",
    "        return self.__precio_base + (self.__monto_porcentaje_segun_tiempo_encender*self.__precio_base)\n",
    "    def __str__(self) -> str:\n",
    "        return super().__str__(), f\"\"\" \n",
    "        Tipo:{self.__tipo}\n",
    "        Precio final: {self.precio_final()}\n",
    "            \"\"\"\n",
    "class Convertibles(Auto):\n",
    "    def __init__(self, marca, material, transmision, cilindrada) -> None:\n",
    "        super().__init__(marca, material, transmision, cilindrada)\n",
    "        self.__maletera = True\n",
    "        self.__precio_base = 50000\n",
    "\n",
    "    def precio_final(self):\n",
    "        return self.precio_final+500 if self.__maletera else self.__precio_base\n",
    "    \n",
    "    def __str__(self) -> str:\n",
    "        return super().__str__(), f\"\"\" \n",
    "        Tipo:{self.__tipo}\n",
    "        Precio final: {self.precio_final()} \n",
    "        \"\"\"    \n",
    "class Consesionaria():\n",
    "    def __init__(self) -> None:\n",
    "        self.__autos = []\n",
    "\n",
    "    def auto_mayor_precio(self):\n",
    "        maximo = 0\n",
    "        indice = 0\n",
    "        for indice_auto, auto in enumerate(self.__autos):\n",
    "            if auto.precio_final > maximo:\n",
    "                maximo = auto.precio_final()\n",
    "                indice = indice_auto\n",
    "        print(self.__autos[indice])\n",
    "    def auto_mayor_precio(self):\n",
    "        menor = 10000000\n",
    "        indice = 0\n",
    "        for indice_auto, auto in enumerate(self.__autos):\n",
    "            if menor > auto.precio_final():\n",
    "                menor = auto.precio_final()\n",
    "                indice = indice_auto\n",
    "        print(self.__autos[indice])\n",
    "\n",
    "\n",
    "    \n"
   ]
  },
  {
   "cell_type": "code",
   "execution_count": 27,
   "metadata": {},
   "outputs": [
    {
     "name": "stdout",
     "output_type": "stream",
     "text": [
      "Help on method randint in module random:\n",
      "\n",
      "randint(a, b) method of random.Random instance\n",
      "    Return random integer in range [a, b], including both end points.\n",
      "\n"
     ]
    }
   ],
   "source": [
    "help(randint)"
   ]
  },
  {
   "cell_type": "code",
   "execution_count": 42,
   "metadata": {},
   "outputs": [],
   "source": [
    "class Cliente:\n",
    "    def __init__(self, nombre, direccion, numero_telefono, direccion_correo, preferente) -> None:\n",
    "        self.__nombre= nombre\n",
    "        self.__direccion = direccion\n",
    "        self.__numero_telefono = numero_telefono\n",
    "        self.__direccion_correo= direccion_correo\n",
    "        self.__preferente = preferente\n",
    "    def get_nombre(self):\n",
    "        return self.__nombre    \n",
    "    def get_direccion(self):\n",
    "        return self.__direccion    \n",
    "    def get_numero_telefono(self):\n",
    "        return self.__numero_telefono    \n",
    "    def get_direccion_correo(self):\n",
    "        return self.__direccion_correo\n",
    "    def get_preferente(self):\n",
    "        return self.__preferente    \n",
    "    def set_direccion(self, direccion):\n",
    "        self.__direccion = direccion\n",
    "    def set_telefono(self, telefono):\n",
    "        self.__numero_telefono = telefono\n",
    "    def set_direccion_correo(self, correo):\n",
    "        self.__direccion_correo = correo\n",
    "    def set_preferente(self, preferente):\n",
    "        self.__preferente = preferente\n",
    "\n",
    "    def __str__(self) -> str:\n",
    "        return f\"\"\"\n",
    "        {self.__DNI}     {self.__nombre}     {self.__direccion}     {self.__numero_telefono}        {self.__direccion_correo}       {'Si' if self.__preferente else 'No'}\n",
    "        \"\"\"\n",
    "\n",
    "class BaseClientes:\n",
    "    def __init__(self) -> None:\n",
    "        self.__Baseclientes = {}\n",
    "    def validar_dni(self):\n",
    "        dni = \"\"    \n",
    "        while not (len(dni) == 8):\n",
    "            dni = input(\"Ingrese dni: \")\n",
    "        return dni\n",
    "    def validar_nombre(self):\n",
    "        nombre = \"\"\n",
    "        digits = []\n",
    "        while not (any(digits)):\n",
    "            nombre = input(\"Ingresenombre: \") \n",
    "            digits = list(map(str.isdigit, nombre))\n",
    "        return nombre.capitalize()\n",
    "    def validar_direccion(self):\n",
    "        direccion= \"\"\n",
    "        while not (len(direccion)>=5):\n",
    "            direccion = input(\"Ingrese direccion \")\n",
    "        return direccion\n",
    "    def validar_telefono(self):\n",
    "        telefono =\"\"\n",
    "        digits = []\n",
    "        while not(all(digits)):\n",
    "            telefono = input(\"Ingresetelefono: \")\n",
    "            digits = list(map(str.isdigit, telefono))\n",
    "        return telefono\n",
    "    def validar_correo(self):\n",
    "        valid = False\n",
    "        correo = \"\"\n",
    "        while not valid:\n",
    "            correo = input(\"Ingrese su correo\")\n",
    "            if (correo[-4:] == \".com\") and (\"@\" in correo):\n",
    "                valid = True\n",
    "       \n",
    "    def validar_preferente(self):\n",
    "        preferente = \"\"\n",
    "        while not (type(preferente)== bool):\n",
    "            preferente = input(\"Ingrese preferente: \")\n",
    "            match preferente:\n",
    "                case '1': preferente=True\n",
    "                case '0': preferente=False\n",
    "        return preferente \n",
    "    \n",
    "    def registrar_cliente(self):\n",
    "        self.__Baseclientes[self.validar_dni()] = Cliente(nombre=self.validar_nombre(),direccion=self.validar_direccion(),numero_telefono=self.validar_telefono(),direccion_correo=self.validar_correo(),preferente=self.validar_preferente())\n",
    "\n",
    "    def actualizar_cliente(self, dni_modificar):\n",
    "        if dni_modificar in self.__Baseclientes:\n",
    "            entrada = 0\n",
    "            while not (entrada == 5):\n",
    "                print(f\"\"\"\n",
    "                    QUE DESEA ACTUALIZAR\n",
    "                1. direccion\n",
    "                2. telefono\n",
    "                3. correo\n",
    "                4. preferente\n",
    "                5. salir\n",
    "                    \"\"\")            \n",
    "                entrada = int(input(\"Ingrese opcion\"))\n",
    "                \n",
    "                match entrada:\n",
    "                    case 1: self.__Baseclientes[dni_modificar].set_direccion(direccion=self.validar_direccion()) \n",
    "                    case 2: self.__Baseclientes[dni_modificar].set_telefonon(telefono= self.validar_telefono())\n",
    "                    case 3: self.__Baseclientes[dni_modificar].set_correo(correo= self.validar_correo())\n",
    "                    case 4: self.__Baseclientes[dni_modificar].set_preferente(preferente= self.validar_preferente())\n",
    "        else:\n",
    "            print(f\"DNI: {dni_modificar} no existe\")    \n",
    "    def eliminar_cliente(self, dni_eliminar):\n",
    "        if dni_eliminar in self.__Baseclientes:\n",
    "            self.__Baseclientes.pop(dni_eliminar)\n",
    "        else:\n",
    "            print(f\"DNI: {dni_eliminar} no existe\")\n",
    "    def busqueda_cliente(self, nombre):\n",
    "        for cliente in self.__Baseclientes.values():\n",
    "            if cliente.get_nombre() == nombre.capitalize():\n",
    "                print(cliente)\n",
    "    def visualizar_clientes(self):\n",
    "        print(\"\"\"\n",
    "    DNI         nombre          direccion       numero_telefono             direccion_correo}               preferente  \n",
    "        \"\"\")\n",
    "        for cliente in self.__Baseclientes.values():\n",
    "            print(cliente)"
   ]
  },
  {
   "cell_type": "code",
   "execution_count": 41,
   "metadata": {},
   "outputs": [
    {
     "name": "stdout",
     "output_type": "stream",
     "text": [
      "Help on method_descriptor:\n",
      "\n",
      "pop(...)\n",
      "    D.pop(k[,d]) -> v, remove specified key and return the corresponding value.\n",
      "\n",
      "    If the key is not found, return the default if given; otherwise,\n",
      "    raise a KeyError.\n",
      "\n"
     ]
    }
   ],
   "source": [
    "help(dict.pop)"
   ]
  },
  {
   "cell_type": "code",
   "execution_count": 1,
   "metadata": {},
   "outputs": [],
   "source": [
    "\n",
    "\n",
    "\n",
    "\n",
    "\n",
    "\n",
    "\n",
    "\n",
    "\n",
    "\n",
    "\n",
    "\n",
    "\n",
    "\n",
    "\n",
    "\n",
    "\n",
    "\n",
    "\n",
    "def registrar_alumnos(alumnos_totales):\n",
    "    codigo_alumno = \"\"\n",
    "    while not (codigo_alumno and len(codigo_alumno)==3 and codigo_alumno not in (alumnos_totales.keys())):\n",
    "        #recibir un codigo minimo de 3 digitos\n",
    "        codigo_alumno = input(\"Ingrese codigo alumno: \")    \n",
    "    nombre = \"\"\n",
    "    while not(nombre and len(nombre)==3):\n",
    "        nombre = input(\"Ingrese nombre: \")\n",
    "    notas= []\n",
    "    for i in range(4):\n",
    "        nota =  0.0\n",
    "        while not (nota and type(nota) == float and 0<=nota<=20):\n",
    "            notas.append(float(input(f\"Ingrese nota de EC{i+1}: \")))\n",
    "    alumnos_totales[codigo_alumno] = (nombre, notas)\n",
    "\n",
    "\n",
    "def reporte_calificaciones(alumnos_totales):\n",
    "\n",
    "\n",
    "def main():\n",
    "    total_alumnos= {}\n",
    "    # codigo: nombre, [notas]\n",
    "    seleccion = -1\n",
    "    while not (1<=seleccion<4):\n",
    "        print(\"\"\"\n",
    "\n",
    "        [1] Registrar calificaciones\n",
    "        [2] Reporte calificaciones\n",
    "        [3] Estadisticas de calificaciones\n",
    "        [4] Salir\n",
    "\n",
    "        \"\"\")\n",
    "        seleccion = input(\"Ingrese su seleccion: \")\n",
    "        match seleccion:\n",
    "            case '1':        \n",
    "                registrar_alumnos(alumnos_totales=total_alumnos)\n",
    "            case '2': pass"
   ]
  },
  {
   "cell_type": "code",
   "execution_count": 2,
   "metadata": {},
   "outputs": [
    {
     "name": "stdout",
     "output_type": "stream",
     "text": [
      "{'1231': ('tolin', [1, 2, 3, 4])}\n"
     ]
    }
   ],
   "source": [
    "xd = {\"1231\": (\"tolin\", [1,2,3,4])}\n",
    "\n",
    "print(xd)"
   ]
  },
  {
   "cell_type": "code",
   "execution_count": null,
   "metadata": {},
   "outputs": [],
   "source": []
  }
 ],
 "metadata": {
  "kernelspec": {
   "display_name": "Python 3",
   "language": "python",
   "name": "python3"
  },
  "language_info": {
   "codemirror_mode": {
    "name": "ipython",
    "version": 3
   },
   "file_extension": ".py",
   "mimetype": "text/x-python",
   "name": "python",
   "nbconvert_exporter": "python",
   "pygments_lexer": "ipython3",
   "version": "3.12.2"
  }
 },
 "nbformat": 4,
 "nbformat_minor": 2
}
